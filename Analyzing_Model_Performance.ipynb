{
  "nbformat": 4,
  "nbformat_minor": 0,
  "metadata": {
    "colab": {
      "name": "Analyzing Model Performance.ipynb",
      "provenance": []
    },
    "kernelspec": {
      "name": "python3",
      "display_name": "Python 3"
    }
  },
  "cells": [
    {
      "cell_type": "markdown",
      "metadata": {
        "id": "siII8rFlaBi-",
        "colab_type": "text"
      },
      "source": [
        "# **1. Import necessary packages**"
      ]
    },
    {
      "cell_type": "code",
      "metadata": {
        "id": "rTgsiRKDaGLg",
        "colab_type": "code",
        "colab": {
          "base_uri": "https://localhost:8080/",
          "height": 71
        },
        "outputId": "b2732436-5a56-4e0f-8c76-4f5c2aac075d"
      },
      "source": [
        "#pandas\n",
        "#train_test_split\n",
        "#LogisticRegression\n",
        "#pyplot from matplotlib\n",
        "#KNeighborsClassifier\n",
        "#LogisticRegressionClassifier\n",
        "#RandomForestClassifier\n",
        "#DummyClassifier\n",
        "import matplotlib.pyplot as plt\n",
        "import numpy as np\n",
        "import pandas as pd\n",
        "import seaborn as sns\n",
        "from sklearn.linear_model import LogisticRegression\n",
        "from sklearn.model_selection import train_test_split, cross_val_score\n",
        "from sklearn.dummy import DummyClassifier\n",
        "from sklearn.metrics import confusion_matrix\n",
        "from sklearn.utils.multiclass import unique_labels\n",
        "from sklearn.metrics import accuracy_score, precision_score, recall_score, f1_score, fbeta_score, classification_report\n",
        "from sklearn.metrics import roc_curve, precision_recall_curve, roc_auc_score\n",
        "from sklearn.preprocessing import StandardScaler\n",
        "from sklearn.neighbors import KNeighborsClassifier\n",
        "from sklearn.ensemble import RandomForestClassifier\n",
        "%matplotlib inline"
      ],
      "execution_count": null,
      "outputs": [
        {
          "output_type": "stream",
          "text": [
            "/usr/local/lib/python3.6/dist-packages/statsmodels/tools/_testing.py:19: FutureWarning: pandas.util.testing is deprecated. Use the functions in the public API at pandas.testing instead.\n",
            "  import pandas.util.testing as tm\n"
          ],
          "name": "stderr"
        }
      ]
    },
    {
      "cell_type": "markdown",
      "metadata": {
        "id": "PkvY5PVKaGjT",
        "colab_type": "text"
      },
      "source": [
        "# **2. Load and prepare the dataset**"
      ]
    },
    {
      "cell_type": "code",
      "metadata": {
        "id": "pomLyRN7aJEM",
        "colab_type": "code",
        "colab": {
          "base_uri": "https://localhost:8080/",
          "height": 34
        },
        "outputId": "20ae35a2-a7aa-487a-f27f-c1f4a2cc095c"
      },
      "source": [
        "#Load the training data into a dataframe named df_train_data \n",
        "df_train_data = pd.read_csv('http://archive.ics.uci.edu/ml/machine-learning-databases/statlog/shuttle/shuttle.tst', header=None, sep=' ')\n",
        "\n",
        "#Create binary classification problem - rename some class labels\n",
        "df_train_data.loc[df_train_data[9] != 4, 9] = 0\n",
        "df_train_data.loc[df_train_data[9] == 4, 9] = 1\n",
        "\n",
        "#Create a dataframe of 9 features named X, drop column 9.\n",
        "X = df_train_data.drop([9], axis=1)\n",
        "\n",
        "#Create a data frame of labels named y, select only column 9.\n",
        "y = df_train_data[9]\n",
        "\n",
        "#Split the data into a training set and a test set.\n",
        "X_train, X_test, y_train, y_test = train_test_split(X, y)\n",
        "\n",
        "print('There are {:d} training samples and {:d} test samples'.format(X_train.shape[0], X_test.shape[0]))"
      ],
      "execution_count": null,
      "outputs": [
        {
          "output_type": "stream",
          "text": [
            "There are 10875 training samples and 3625 test samples\n"
          ],
          "name": "stdout"
        }
      ]
    },
    {
      "cell_type": "markdown",
      "metadata": {
        "id": "1CFIM1N0aJVY",
        "colab_type": "text"
      },
      "source": [
        "# **3. Create the model**"
      ]
    },
    {
      "cell_type": "code",
      "metadata": {
        "id": "BtI9THNJaLiX",
        "colab_type": "code",
        "colab": {
          "base_uri": "https://localhost:8080/",
          "height": 102
        },
        "outputId": "ac9456bb-0e3c-41d8-a5e2-2321f24e8723"
      },
      "source": [
        "#Instantiate a Logistic Regression classifier with a lbfgs solver.\n",
        "lr = LogisticRegression(solver='lbfgs', penalty='none', max_iter=1000)\n",
        "\n",
        "#Fit the classifier to the data.\n",
        "lr.fit(X_train, y_train)"
      ],
      "execution_count": null,
      "outputs": [
        {
          "output_type": "execute_result",
          "data": {
            "text/plain": [
              "LogisticRegression(C=1.0, class_weight=None, dual=False, fit_intercept=True,\n",
              "                   intercept_scaling=1, l1_ratio=None, max_iter=1000,\n",
              "                   multi_class='auto', n_jobs=None, penalty='none',\n",
              "                   random_state=None, solver='lbfgs', tol=0.0001, verbose=0,\n",
              "                   warm_start=False)"
            ]
          },
          "metadata": {
            "tags": []
          },
          "execution_count": 3
        }
      ]
    },
    {
      "cell_type": "markdown",
      "metadata": {
        "id": "crgr5QiraL0Y",
        "colab_type": "text"
      },
      "source": [
        "# **4. Calculate Accuracy**"
      ]
    },
    {
      "cell_type": "code",
      "metadata": {
        "id": "_W2OkkFsabNy",
        "colab_type": "code",
        "colab": {
          "base_uri": "https://localhost:8080/",
          "height": 34
        },
        "outputId": "4e3dc195-3695-4e4f-aa66-e6c91606f389"
      },
      "source": [
        "#Calculate and print the accuracy of the model on the test data.\n",
        "lr_score = lr.score(X_test, y_test)\n",
        "\n",
        "print('The accuracy of the Logistic Regression: {:.3f}'.format(lr_score))"
      ],
      "execution_count": null,
      "outputs": [
        {
          "output_type": "stream",
          "text": [
            "The accuracy of the Logistic Regression: 0.834\n"
          ],
          "name": "stdout"
        }
      ]
    },
    {
      "cell_type": "markdown",
      "metadata": {
        "id": "OyiaYMhMadj_",
        "colab_type": "text"
      },
      "source": [
        "# **5. Dummy Classifier**"
      ]
    },
    {
      "cell_type": "code",
      "metadata": {
        "id": "IMsRLJJgafwT",
        "colab_type": "code",
        "colab": {
          "base_uri": "https://localhost:8080/",
          "height": 34
        },
        "outputId": "c83d213b-7190-4aa2-d025-f623000f65c0"
      },
      "source": [
        "#Use the dummy classifier to calculate the accuracy of a purely random chance.\n",
        "dummy = DummyClassifier(strategy = 'uniform')\n",
        "dummy.fit(X_train, y_train)\n",
        "dummy.score(X_test, y_test)\n",
        "#Compare this result to the result of the logistic regression classifier above. What does this result tell you?\n",
        "#The accuracy of the model is much better than random chance. "
      ],
      "execution_count": null,
      "outputs": [
        {
          "output_type": "execute_result",
          "data": {
            "text/plain": [
              "0.4940689655172414"
            ]
          },
          "metadata": {
            "tags": []
          },
          "execution_count": 5
        }
      ]
    },
    {
      "cell_type": "markdown",
      "metadata": {
        "id": "76fWZCAVaizo",
        "colab_type": "text"
      },
      "source": [
        "# **6. Confusion Matrix**"
      ]
    },
    {
      "cell_type": "code",
      "metadata": {
        "id": "L--g78mqalCL",
        "colab_type": "code",
        "colab": {
          "base_uri": "https://localhost:8080/",
          "height": 51
        },
        "outputId": "e963b031-1fe1-4705-b109-f3b04b2ccefb"
      },
      "source": [
        "#Print the confusion matrix.\n",
        "predictions = lr.predict(X_test)\n",
        "\n",
        "confusion = confusion_matrix(y_test, predictions)\n",
        "print(confusion)"
      ],
      "execution_count": null,
      "outputs": [
        {
          "output_type": "stream",
          "text": [
            "[[2991  124]\n",
            " [ 476   34]]\n"
          ],
          "name": "stdout"
        }
      ]
    },
    {
      "cell_type": "markdown",
      "metadata": {
        "id": "DNKalSfIangE",
        "colab_type": "text"
      },
      "source": [
        "# **7. Plot a nicer confusion matrix (optional)**"
      ]
    },
    {
      "cell_type": "code",
      "metadata": {
        "id": "to1PnP66apx3",
        "colab_type": "code",
        "colab": {}
      },
      "source": [
        "#Use the plot_confusion_matrix function from above to plot a nicer looking confusion matrix.\n",
        "def plot_confusion_matrix(cm,\n",
        "                          target_names,\n",
        "                          title='Confusion matrix',\n",
        "                          cmap=None,\n",
        "                          normalize=True):\n",
        "    \n",
        "   \n",
        "    import matplotlib.pyplot as plt\n",
        "    import numpy as np\n",
        "    import itertools\n",
        "\n",
        "    accuracy = np.trace(cm) / float(np.sum(cm))\n",
        "    misclass = 1 - accuracy\n",
        "\n",
        "    if cmap is None:\n",
        "        cmap = plt.get_cmap('Blues')\n",
        "\n",
        "    plt.figure(figsize=(8, 6))\n",
        "    plt.imshow(cm, interpolation='nearest', cmap=cmap)\n",
        "    plt.title(title)\n",
        "    plt.colorbar()\n",
        "\n",
        "    if target_names is not None:\n",
        "        tick_marks = np.arange(len(target_names))\n",
        "        plt.xticks(tick_marks, target_names, rotation=45)\n",
        "        plt.yticks(tick_marks, target_names)\n",
        "\n",
        "    if normalize:\n",
        "        cm = cm.astype('float') / cm.sum(axis=1)[:, np.newaxis]\n",
        "\n",
        "\n",
        "    thresh = cm.max() / 1.5 if normalize else cm.max() / 2\n",
        "    for i, j in itertools.product(range(cm.shape[0]), range(cm.shape[1])):\n",
        "        if normalize:\n",
        "            plt.text(j, i, \"{:0.4f}\".format(cm[i, j]),\n",
        "                     horizontalalignment=\"center\",\n",
        "                     color=\"white\" if cm[i, j] > thresh else \"black\")\n",
        "        else:\n",
        "            plt.text(j, i, \"{:,}\".format(cm[i, j]),\n",
        "                     horizontalalignment=\"center\",\n",
        "                     color=\"white\" if cm[i, j] > thresh else \"black\")\n",
        "\n",
        "\n",
        "    plt.tight_layout()\n",
        "    plt.ylabel('Predicted label')\n",
        "    plt.xlabel('True label\\naccuracy={:0.4f}; misclass={:0.4f}'.format(accuracy, misclass))\n",
        "    plt.show()"
      ],
      "execution_count": null,
      "outputs": []
    },
    {
      "cell_type": "code",
      "metadata": {
        "id": "V9OlN45kdOUf",
        "colab_type": "code",
        "colab": {
          "base_uri": "https://localhost:8080/",
          "height": 467
        },
        "outputId": "ab777ee6-aaa3-41c3-a38d-e239ba383641"
      },
      "source": [
        "plot_confusion_matrix(cm=confusion, target_names = ['Positive', 'Negative'], title = 'Confusion Matrix',normalize=False)"
      ],
      "execution_count": null,
      "outputs": [
        {
          "output_type": "display_data",
          "data": {
            "image/png": "[encoded data removed]",
            "text/plain": [
              "<Figure size 576x432 with 2 Axes>"
            ]
          },
          "metadata": {
            "tags": [],
            "needs_background": "light"
          }
        }
      ]
    },
    {
      "cell_type": "markdown",
      "metadata": {
        "id": "T50f7rMOasx2",
        "colab_type": "text"
      },
      "source": [
        "# **8. Calculate Metrics**"
      ]
    },
    {
      "cell_type": "code",
      "metadata": {
        "id": "j1bAK7OSau4V",
        "colab_type": "code",
        "colab": {
          "base_uri": "https://localhost:8080/",
          "height": 119
        },
        "outputId": "dba46b3f-c077-493e-f7f3-5223d42a6c58"
      },
      "source": [
        "#Print the F1, F beta, precision, recall and accuracy scores.\n",
        "accuracy = accuracy_score(y_test, predictions)\n",
        "precision = precision_score(y_test, predictions)\n",
        "recall = recall_score(y_test, predictions)\n",
        "f1 = f1_score(y_test, predictions)\n",
        "fbeta_precision = fbeta_score(y_test, predictions, 0.5)\n",
        "fbeta_recall = fbeta_score(y_test, predictions, 2)\n",
        "\n",
        "print('Accuracy score: {:.2f}'.format(accuracy))\n",
        "print('Precision score: {:.2f}'.format(precision))\n",
        "print('Recall score: {:.2f}'.format(recall))\n",
        "print('F1 score: {:.2f}'.format(f1))\n",
        "print('Fbeta score favoring precision: {:.2f}'.format(fbeta_precision))\n",
        "print('FBeta score favoring recall: {:.2f}'.format(fbeta_recall))"
      ],
      "execution_count": null,
      "outputs": [
        {
          "output_type": "stream",
          "text": [
            "Accuracy score: 0.83\n",
            "Precision score: 0.22\n",
            "Recall score: 0.07\n",
            "F1 score: 0.10\n",
            "Fbeta score favoring precision: 0.15\n",
            "FBeta score favoring recall: 0.08\n"
          ],
          "name": "stdout"
        }
      ]
    },
    {
      "cell_type": "markdown",
      "metadata": {
        "id": "drnXpATaax3o",
        "colab_type": "text"
      },
      "source": [
        "# **9. Print a classification report**"
      ]
    },
    {
      "cell_type": "code",
      "metadata": {
        "id": "nvYeRCBPa1EG",
        "colab_type": "code",
        "colab": {
          "base_uri": "https://localhost:8080/",
          "height": 170
        },
        "outputId": "c385dc55-0344-4995-c98f-e097dda05d4b"
      },
      "source": [
        "report = classification_report(y_test, predictions, target_names=['Negative', 'Positive'])\n",
        "print(report)"
      ],
      "execution_count": null,
      "outputs": [
        {
          "output_type": "stream",
          "text": [
            "              precision    recall  f1-score   support\n",
            "\n",
            "    Negative       0.86      0.96      0.91      3115\n",
            "    Positive       0.22      0.07      0.10       510\n",
            "\n",
            "    accuracy                           0.83      3625\n",
            "   macro avg       0.54      0.51      0.51      3625\n",
            "weighted avg       0.77      0.83      0.80      3625\n",
            "\n"
          ],
          "name": "stdout"
        }
      ]
    },
    {
      "cell_type": "markdown",
      "metadata": {
        "id": "wjkOKh1qa1YR",
        "colab_type": "text"
      },
      "source": [
        "# **10. Plot ROC Curve and AUC**"
      ]
    },
    {
      "cell_type": "code",
      "metadata": {
        "id": "gKKf5uora3q7",
        "colab_type": "code",
        "colab": {
          "base_uri": "https://localhost:8080/",
          "height": 421
        },
        "outputId": "ce5baa52-4f05-4ba2-e0cb-3c78d354f201"
      },
      "source": [
        "#Caculate AUC and plot the curve.\n",
        "probs = lr.predict_proba(X_test)[:, 1]\n",
        "fpr, tpr, thresholds = roc_curve(y_test, probs)\n",
        "fig = plt.figure(figsize = (6, 6))\n",
        "plt.plot([0, 1], [0, 1], 'k--')\n",
        "plt.plot(fpr, tpr)\n",
        "plt.xlabel('False Positive Rate')\n",
        "plt.ylabel('True Positive Rate')\n",
        "plt.title('ROC curve for Logistic Regression Model')\n",
        "plt.show()\n",
        "\n",
        "auc = roc_auc_score(y_test, probs)\n",
        "print('Area under the ROC curve: {:.3f}'.format(auc))"
      ],
      "execution_count": null,
      "outputs": [
        {
          "output_type": "display_data",
          "data": {
            "image/png": "[encoded data removed]",
            "text/plain": [
              "<Figure size 432x432 with 1 Axes>"
            ]
          },
          "metadata": {
            "tags": [],
            "needs_background": "light"
          }
        },
        {
          "output_type": "stream",
          "text": [
            "Area under the ROC curve: 0.846\n"
          ],
          "name": "stdout"
        }
      ]
    },
    {
      "cell_type": "markdown",
      "metadata": {
        "id": "NxweiOPPa6Pp",
        "colab_type": "text"
      },
      "source": [
        "# **11. Plot Precision-Recall Curve**"
      ]
    },
    {
      "cell_type": "code",
      "metadata": {
        "id": "0-yT_gG8a80t",
        "colab_type": "code",
        "colab": {
          "base_uri": "https://localhost:8080/",
          "height": 404
        },
        "outputId": "f37ca49f-bb3b-4bf8-f487-e1680b674a7b"
      },
      "source": [
        "#Plot the precision-recall curve for the model above.\n",
        "pres, rec, thresholds = precision_recall_curve(y_test, predictions)\n",
        "fig = plt.figure(figsize = (6, 6))\n",
        "plt.plot(rec, pres)\n",
        "plt.xlabel('Recall')\n",
        "plt.ylabel('Precision')\n",
        "plt.title('Precision-Recall Curve')\n",
        "plt.show()\n",
        "\n"
      ],
      "execution_count": null,
      "outputs": [
        {
          "output_type": "display_data",
          "data": {
            "image/png": "[encoded data removed]",
            "text/plain": [
              "<Figure size 432x432 with 1 Axes>"
            ]
          },
          "metadata": {
            "tags": [],
            "needs_background": "light"
          }
        }
      ]
    },
    {
      "cell_type": "code",
      "metadata": {
        "id": "W0T9IMj0eCOV",
        "colab_type": "code",
        "colab": {
          "base_uri": "https://localhost:8080/",
          "height": 295
        },
        "outputId": "1315f381-c7a6-4761-9ca1-d572cb99b499"
      },
      "source": [
        "#Find the best value for C in the Logistic Regression Classifier for avoiding overfitting.\n",
        "#Plot the training and testing accuracy over a range of C values from 0.05 to 1.5.\n",
        "c_vals = np.arange(0.05, 1.5, 0.05)\n",
        "test_accuracy = []\n",
        "train_accuracy = []\n",
        "\n",
        "for c in c_vals:\n",
        "  lr = LogisticRegression(solver='lbfgs', penalty='l2', C=c, max_iter=1000)\n",
        "  lr.fit(X_train, y_train)\n",
        "  test_accuracy.append(lr.score(X_test, y_test))\n",
        "  train_accuracy.append(lr.score(X_train, y_train))\n",
        "\n",
        "fig = plt.figure(figsize=(8, 4))\n",
        "ax1 = fig.add_subplot(1, 1, 1)\n",
        "ax1.plot(c_vals, test_accuracy, '-g', label='Test Accuracy')\n",
        "ax1.plot(c_vals, train_accuracy, '-b', label='Train Accuracy')\n",
        "ax1.set(xlabel='C', ylabel='Accuracy')\n",
        "ax1.set_title('Effect of C on Accuracy')\n",
        "ax1.legend()\n",
        "plt.show()"
      ],
      "execution_count": null,
      "outputs": [
        {
          "output_type": "display_data",
          "data": {
            "image/png": "[encoded data removed]",
            "text/plain": [
              "<Figure size 576x288 with 1 Axes>"
            ]
          },
          "metadata": {
            "tags": [],
            "needs_background": "light"
          }
        }
      ]
    },
    {
      "cell_type": "markdown",
      "metadata": {
        "id": "gUDPMirgbCAQ",
        "colab_type": "text"
      },
      "source": [
        "# **12. Cross Validation**"
      ]
    },
    {
      "cell_type": "code",
      "metadata": {
        "id": "jzL_JMOPbEL8",
        "colab_type": "code",
        "colab": {
          "base_uri": "https://localhost:8080/",
          "height": 51
        },
        "outputId": "aa55a87f-6276-4411-eead-ba7d92e1c6a9"
      },
      "source": [
        "#Perform 5-fold cross validation for a Logistic Regression Classifier. Print the 5 accuracy scores and the mean validation score.\n",
        "clf = LogisticRegression(solver='lbfgs', max_iter=1000)\n",
        "cv_scores = cross_val_score(clf, X_train, y_train, cv = 5)\n",
        "\n",
        "print('Accuracy scores for the 5 folds: ', cv_scores)\n",
        "print('Mean cross validation score: {:.3f}'.format(np.mean(cv_scores)))"
      ],
      "execution_count": null,
      "outputs": [
        {
          "output_type": "stream",
          "text": [
            "Accuracy scores for the 5 folds:  [0.82022989 0.82068966 0.81931034 0.82298851 0.82482759]\n",
            "Mean cross validation score: 0.822\n"
          ],
          "name": "stdout"
        }
      ]
    },
    {
      "cell_type": "markdown",
      "metadata": {
        "id": "74z0pY-IbG5F",
        "colab_type": "text"
      },
      "source": [
        "# **13. Is this really linear?**\n",
        "\n",
        "Our linear classifier is not giving us accuracy better than the dummy classifier. Suppose that the data was not linearly separable? Instantiate and train a KNN model with k = 7. How does the accuracy of the KNN model compare to the Logistic Regression from above? What does that tell you about the data?"
      ]
    },
    {
      "cell_type": "code",
      "metadata": {
        "id": "8YP-1en7bIux",
        "colab_type": "code",
        "colab": {
          "base_uri": "https://localhost:8080/",
          "height": 34
        },
        "outputId": "dec8f4e2-f355-490c-a3f9-bf5a4a0034c3"
      },
      "source": [
        "knn = KNeighborsClassifier(n_neighbors=7)\n",
        "\n",
        "# Then  fit the model\n",
        "knn.fit(X_train, y_train)\n",
        "\n",
        "# How well did we do\n",
        "knn_7_score = knn.score(X_test, y_test)\n",
        "\n",
        "print('Accuracy of KNN (k = 7): {:.3f}'.format(knn_7_score))"
      ],
      "execution_count": null,
      "outputs": [
        {
          "output_type": "stream",
          "text": [
            "Accuracy of KNN (k = 7): 0.998\n"
          ],
          "name": "stdout"
        }
      ]
    },
    {
      "cell_type": "markdown",
      "metadata": {
        "id": "8GcMOyFabMsS",
        "colab_type": "text"
      },
      "source": [
        "# **14. Random Forest**"
      ]
    },
    {
      "cell_type": "code",
      "metadata": {
        "id": "DnVH84kobQki",
        "colab_type": "code",
        "colab": {
          "base_uri": "https://localhost:8080/",
          "height": 34
        },
        "outputId": "ac82dc63-7fe7-4522-ef64-da8202465103"
      },
      "source": [
        "# instantiate and fit a RandomForestClassifier and calculate the accuracy of that model.\n",
        "\n",
        "rf = RandomForestClassifier(n_estimators = 22, random_state = 40)\n",
        "\n",
        "rf.fit(X_train,y_train)\n",
        "\n",
        "rf_score = rf.score(X_test, y_test)\n",
        "\n",
        "print('Accuracy of Random Forest: {:.3f}'.format(rf_score))"
      ],
      "execution_count": null,
      "outputs": [
        {
          "output_type": "stream",
          "text": [
            "Accuracy of Random Forest: 1.000\n"
          ],
          "name": "stdout"
        }
      ]
    }
  ]
}